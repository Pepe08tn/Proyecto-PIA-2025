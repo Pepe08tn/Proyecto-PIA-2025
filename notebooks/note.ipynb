{
 "cells": [
  {
   "cell_type": "code",
   "execution_count": null,
   "id": "08bb4e47",
   "metadata": {},
   "outputs": [],
   "source": [
    "# notebooks/01_analisis_inicial.py\n",
    "\n",
    "import pandas as pd\n",
    "import numpy as np\n",
    "import matplotlib.pyplot as plt\n",
    "import seaborn as sns\n",
    "import os\n",
    "from sklearn.preprocessing import MinMaxScaler\n",
    "from sklearn.model_selection import train_test_split\n",
    "from sklearn.linear_model import LogisticRegression\n",
    "from sklearn.ensemble import RandomForestClassifier\n",
    "from sklearn.model_selection import cross_val_score\n",
    "from sklearn.metrics import classification_report, confusion_matrix\n",
    "\n",
    "# Configuración para visualizaciones\n",
    "sns.set(style=\"whitegrid\")\n",
    "plt.rcParams[\"figure.figsize\"] = (10, 6)\n",
    "\n",
    "# Ruta del dataset (ruta relativa al proyecto)\n",
    "BASE_DIR = os.path.abspath(\"..\")  # Sube un nivel desde notebooks/\n",
    "DATA_PATH = os.path.join(BASE_DIR, \"data\", \"pancreatic_cancer_structured.csv\")\n",
    "\n",
    "# Cargar el dataset df nombre del datasef\n",
    "df = pd.read_csv(DATA_PATH)"
   ]
  },
  {
   "cell_type": "code",
   "execution_count": 5,
   "id": "b8b96ff1",
   "metadata": {},
   "outputs": [
    {
     "data": {
      "text/html": [
       "<div>\n",
       "<style scoped>\n",
       "    .dataframe tbody tr th:only-of-type {\n",
       "        vertical-align: middle;\n",
       "    }\n",
       "\n",
       "    .dataframe tbody tr th {\n",
       "        vertical-align: top;\n",
       "    }\n",
       "\n",
       "    .dataframe thead th {\n",
       "        text-align: right;\n",
       "    }\n",
       "</style>\n",
       "<table border=\"1\" class=\"dataframe\">\n",
       "  <thead>\n",
       "    <tr style=\"text-align: right;\">\n",
       "      <th></th>\n",
       "      <th>sample_id</th>\n",
       "      <th>patient_cohort</th>\n",
       "      <th>sample_origin</th>\n",
       "      <th>age</th>\n",
       "      <th>sex</th>\n",
       "      <th>diagnosis</th>\n",
       "      <th>stage</th>\n",
       "      <th>benign_sample_diagnosis</th>\n",
       "      <th>plasma_CA19_9</th>\n",
       "      <th>creatinine</th>\n",
       "      <th>LYVE1</th>\n",
       "      <th>REG1B</th>\n",
       "      <th>TFF1</th>\n",
       "      <th>REG1A</th>\n",
       "    </tr>\n",
       "  </thead>\n",
       "  <tbody>\n",
       "    <tr>\n",
       "      <th>0</th>\n",
       "      <td>S1</td>\n",
       "      <td>Cohort1</td>\n",
       "      <td>BPTB</td>\n",
       "      <td>33</td>\n",
       "      <td>F</td>\n",
       "      <td>1</td>\n",
       "      <td>NaN</td>\n",
       "      <td>NaN</td>\n",
       "      <td>11.7</td>\n",
       "      <td>1.83222</td>\n",
       "      <td>0.893219</td>\n",
       "      <td>52.948840</td>\n",
       "      <td>654.282174</td>\n",
       "      <td>1262.000</td>\n",
       "    </tr>\n",
       "    <tr>\n",
       "      <th>1</th>\n",
       "      <td>S10</td>\n",
       "      <td>Cohort1</td>\n",
       "      <td>BPTB</td>\n",
       "      <td>81</td>\n",
       "      <td>F</td>\n",
       "      <td>1</td>\n",
       "      <td>NaN</td>\n",
       "      <td>NaN</td>\n",
       "      <td>NaN</td>\n",
       "      <td>0.97266</td>\n",
       "      <td>2.037585</td>\n",
       "      <td>94.467030</td>\n",
       "      <td>209.488250</td>\n",
       "      <td>228.407</td>\n",
       "    </tr>\n",
       "    <tr>\n",
       "      <th>2</th>\n",
       "      <td>S100</td>\n",
       "      <td>Cohort2</td>\n",
       "      <td>BPTB</td>\n",
       "      <td>51</td>\n",
       "      <td>M</td>\n",
       "      <td>1</td>\n",
       "      <td>NaN</td>\n",
       "      <td>NaN</td>\n",
       "      <td>7.0</td>\n",
       "      <td>0.78039</td>\n",
       "      <td>0.145589</td>\n",
       "      <td>102.366000</td>\n",
       "      <td>461.141000</td>\n",
       "      <td>NaN</td>\n",
       "    </tr>\n",
       "    <tr>\n",
       "      <th>3</th>\n",
       "      <td>S101</td>\n",
       "      <td>Cohort2</td>\n",
       "      <td>BPTB</td>\n",
       "      <td>61</td>\n",
       "      <td>M</td>\n",
       "      <td>1</td>\n",
       "      <td>NaN</td>\n",
       "      <td>NaN</td>\n",
       "      <td>8.0</td>\n",
       "      <td>0.70122</td>\n",
       "      <td>0.002805</td>\n",
       "      <td>60.579000</td>\n",
       "      <td>142.950000</td>\n",
       "      <td>NaN</td>\n",
       "    </tr>\n",
       "    <tr>\n",
       "      <th>4</th>\n",
       "      <td>S102</td>\n",
       "      <td>Cohort2</td>\n",
       "      <td>BPTB</td>\n",
       "      <td>62</td>\n",
       "      <td>M</td>\n",
       "      <td>1</td>\n",
       "      <td>NaN</td>\n",
       "      <td>NaN</td>\n",
       "      <td>9.0</td>\n",
       "      <td>0.21489</td>\n",
       "      <td>0.000860</td>\n",
       "      <td>65.540000</td>\n",
       "      <td>41.088000</td>\n",
       "      <td>NaN</td>\n",
       "    </tr>\n",
       "    <tr>\n",
       "      <th>...</th>\n",
       "      <td>...</td>\n",
       "      <td>...</td>\n",
       "      <td>...</td>\n",
       "      <td>...</td>\n",
       "      <td>...</td>\n",
       "      <td>...</td>\n",
       "      <td>...</td>\n",
       "      <td>...</td>\n",
       "      <td>...</td>\n",
       "      <td>...</td>\n",
       "      <td>...</td>\n",
       "      <td>...</td>\n",
       "      <td>...</td>\n",
       "      <td>...</td>\n",
       "    </tr>\n",
       "    <tr>\n",
       "      <th>585</th>\n",
       "      <td>S549</td>\n",
       "      <td>Cohort2</td>\n",
       "      <td>BPTB</td>\n",
       "      <td>68</td>\n",
       "      <td>M</td>\n",
       "      <td>3</td>\n",
       "      <td>IV</td>\n",
       "      <td>NaN</td>\n",
       "      <td>NaN</td>\n",
       "      <td>0.52026</td>\n",
       "      <td>7.058209</td>\n",
       "      <td>156.241000</td>\n",
       "      <td>525.178000</td>\n",
       "      <td>NaN</td>\n",
       "    </tr>\n",
       "    <tr>\n",
       "      <th>586</th>\n",
       "      <td>S558</td>\n",
       "      <td>Cohort2</td>\n",
       "      <td>BPTB</td>\n",
       "      <td>71</td>\n",
       "      <td>F</td>\n",
       "      <td>3</td>\n",
       "      <td>IV</td>\n",
       "      <td>NaN</td>\n",
       "      <td>NaN</td>\n",
       "      <td>0.85956</td>\n",
       "      <td>8.341207</td>\n",
       "      <td>16.915000</td>\n",
       "      <td>245.947000</td>\n",
       "      <td>NaN</td>\n",
       "    </tr>\n",
       "    <tr>\n",
       "      <th>587</th>\n",
       "      <td>S560</td>\n",
       "      <td>Cohort2</td>\n",
       "      <td>BPTB</td>\n",
       "      <td>63</td>\n",
       "      <td>M</td>\n",
       "      <td>3</td>\n",
       "      <td>IV</td>\n",
       "      <td>NaN</td>\n",
       "      <td>NaN</td>\n",
       "      <td>1.36851</td>\n",
       "      <td>7.674707</td>\n",
       "      <td>289.701000</td>\n",
       "      <td>537.286000</td>\n",
       "      <td>NaN</td>\n",
       "    </tr>\n",
       "    <tr>\n",
       "      <th>588</th>\n",
       "      <td>S583</td>\n",
       "      <td>Cohort2</td>\n",
       "      <td>BPTB</td>\n",
       "      <td>75</td>\n",
       "      <td>F</td>\n",
       "      <td>3</td>\n",
       "      <td>IV</td>\n",
       "      <td>NaN</td>\n",
       "      <td>NaN</td>\n",
       "      <td>1.33458</td>\n",
       "      <td>8.206777</td>\n",
       "      <td>205.930000</td>\n",
       "      <td>722.523000</td>\n",
       "      <td>NaN</td>\n",
       "    </tr>\n",
       "    <tr>\n",
       "      <th>589</th>\n",
       "      <td>S590</td>\n",
       "      <td>Cohort1</td>\n",
       "      <td>BPTB</td>\n",
       "      <td>74</td>\n",
       "      <td>M</td>\n",
       "      <td>3</td>\n",
       "      <td>IV</td>\n",
       "      <td>NaN</td>\n",
       "      <td>1488.0</td>\n",
       "      <td>1.50423</td>\n",
       "      <td>8.200958</td>\n",
       "      <td>411.938275</td>\n",
       "      <td>2021.321078</td>\n",
       "      <td>13200.000</td>\n",
       "    </tr>\n",
       "  </tbody>\n",
       "</table>\n",
       "<p>590 rows × 14 columns</p>\n",
       "</div>"
      ],
      "text/plain": [
       "    sample_id patient_cohort sample_origin  age sex  diagnosis stage  \\\n",
       "0          S1        Cohort1          BPTB   33   F          1   NaN   \n",
       "1         S10        Cohort1          BPTB   81   F          1   NaN   \n",
       "2        S100        Cohort2          BPTB   51   M          1   NaN   \n",
       "3        S101        Cohort2          BPTB   61   M          1   NaN   \n",
       "4        S102        Cohort2          BPTB   62   M          1   NaN   \n",
       "..        ...            ...           ...  ...  ..        ...   ...   \n",
       "585      S549        Cohort2          BPTB   68   M          3    IV   \n",
       "586      S558        Cohort2          BPTB   71   F          3    IV   \n",
       "587      S560        Cohort2          BPTB   63   M          3    IV   \n",
       "588      S583        Cohort2          BPTB   75   F          3    IV   \n",
       "589      S590        Cohort1          BPTB   74   M          3    IV   \n",
       "\n",
       "    benign_sample_diagnosis  plasma_CA19_9  creatinine     LYVE1       REG1B  \\\n",
       "0                       NaN           11.7     1.83222  0.893219   52.948840   \n",
       "1                       NaN            NaN     0.97266  2.037585   94.467030   \n",
       "2                       NaN            7.0     0.78039  0.145589  102.366000   \n",
       "3                       NaN            8.0     0.70122  0.002805   60.579000   \n",
       "4                       NaN            9.0     0.21489  0.000860   65.540000   \n",
       "..                      ...            ...         ...       ...         ...   \n",
       "585                     NaN            NaN     0.52026  7.058209  156.241000   \n",
       "586                     NaN            NaN     0.85956  8.341207   16.915000   \n",
       "587                     NaN            NaN     1.36851  7.674707  289.701000   \n",
       "588                     NaN            NaN     1.33458  8.206777  205.930000   \n",
       "589                     NaN         1488.0     1.50423  8.200958  411.938275   \n",
       "\n",
       "            TFF1      REG1A  \n",
       "0     654.282174   1262.000  \n",
       "1     209.488250    228.407  \n",
       "2     461.141000        NaN  \n",
       "3     142.950000        NaN  \n",
       "4      41.088000        NaN  \n",
       "..           ...        ...  \n",
       "585   525.178000        NaN  \n",
       "586   245.947000        NaN  \n",
       "587   537.286000        NaN  \n",
       "588   722.523000        NaN  \n",
       "589  2021.321078  13200.000  \n",
       "\n",
       "[590 rows x 14 columns]"
      ]
     },
     "execution_count": 5,
     "metadata": {},
     "output_type": "execute_result"
    }
   ],
   "source": [
    "df = pd.read_csv('../data/pancreatic_cancer_structured.csv')\n",
    "df\n",
    "# "
   ]
  },
  {
   "cell_type": "code",
   "execution_count": 6,
   "id": "e6ecb259",
   "metadata": {},
   "outputs": [
    {
     "name": "stdout",
     "output_type": "stream",
     "text": [
      "Tipos de datos por columna:\n",
      "<class 'pandas.core.frame.DataFrame'>\n",
      "RangeIndex: 590 entries, 0 to 589\n",
      "Data columns (total 14 columns):\n",
      " #   Column                   Non-Null Count  Dtype  \n",
      "---  ------                   --------------  -----  \n",
      " 0   sample_id                590 non-null    object \n",
      " 1   patient_cohort           590 non-null    object \n",
      " 2   sample_origin            590 non-null    object \n",
      " 3   age                      590 non-null    int64  \n",
      " 4   sex                      590 non-null    object \n",
      " 5   diagnosis                590 non-null    int64  \n",
      " 6   stage                    199 non-null    object \n",
      " 7   benign_sample_diagnosis  208 non-null    object \n",
      " 8   plasma_CA19_9            350 non-null    float64\n",
      " 9   creatinine               590 non-null    float64\n",
      " 10  LYVE1                    590 non-null    float64\n",
      " 11  REG1B                    590 non-null    float64\n",
      " 12  TFF1                     590 non-null    float64\n",
      " 13  REG1A                    306 non-null    float64\n",
      "dtypes: float64(6), int64(2), object(6)\n",
      "memory usage: 64.7+ KB\n"
     ]
    }
   ],
   "source": [
    "print(\"Tipos de datos por columna:\")\n",
    "df.info()\n",
    "# con info vemos que tipo de dato estan dentro del dataset"
   ]
  },
  {
   "cell_type": "code",
   "execution_count": 7,
   "id": "5b680a7f",
   "metadata": {},
   "outputs": [
    {
     "name": "stdout",
     "output_type": "stream",
     "text": [
      "Valores nulos por columna:\n",
      "sample_id                    0\n",
      "patient_cohort               0\n",
      "sample_origin                0\n",
      "age                          0\n",
      "sex                          0\n",
      "diagnosis                    0\n",
      "stage                      391\n",
      "benign_sample_diagnosis    382\n",
      "plasma_CA19_9              240\n",
      "creatinine                   0\n",
      "LYVE1                        0\n",
      "REG1B                        0\n",
      "TFF1                         0\n",
      "REG1A                      284\n",
      "dtype: int64 \n",
      "\n"
     ]
    }
   ],
   "source": [
    "print(\"Valores nulos por columna:\")\n",
    "print(df.isnull().sum(), \"\\n\")"
   ]
  },
  {
   "cell_type": "code",
   "execution_count": 8,
   "id": "98755b32",
   "metadata": {},
   "outputs": [
    {
     "name": "stdout",
     "output_type": "stream",
     "text": [
      "Datos\n"
     ]
    },
    {
     "data": {
      "text/html": [
       "<div>\n",
       "<style scoped>\n",
       "    .dataframe tbody tr th:only-of-type {\n",
       "        vertical-align: middle;\n",
       "    }\n",
       "\n",
       "    .dataframe tbody tr th {\n",
       "        vertical-align: top;\n",
       "    }\n",
       "\n",
       "    .dataframe thead th {\n",
       "        text-align: right;\n",
       "    }\n",
       "</style>\n",
       "<table border=\"1\" class=\"dataframe\">\n",
       "  <thead>\n",
       "    <tr style=\"text-align: right;\">\n",
       "      <th></th>\n",
       "      <th>age</th>\n",
       "      <th>diagnosis</th>\n",
       "      <th>plasma_CA19_9</th>\n",
       "      <th>creatinine</th>\n",
       "      <th>LYVE1</th>\n",
       "      <th>REG1B</th>\n",
       "      <th>TFF1</th>\n",
       "      <th>REG1A</th>\n",
       "    </tr>\n",
       "  </thead>\n",
       "  <tbody>\n",
       "    <tr>\n",
       "      <th>count</th>\n",
       "      <td>590.000000</td>\n",
       "      <td>590.000000</td>\n",
       "      <td>350.000000</td>\n",
       "      <td>590.000000</td>\n",
       "      <td>590.000000</td>\n",
       "      <td>590.000000</td>\n",
       "      <td>590.000000</td>\n",
       "      <td>306.000000</td>\n",
       "    </tr>\n",
       "    <tr>\n",
       "      <th>mean</th>\n",
       "      <td>59.079661</td>\n",
       "      <td>2.027119</td>\n",
       "      <td>654.002944</td>\n",
       "      <td>0.855383</td>\n",
       "      <td>3.063530</td>\n",
       "      <td>111.774090</td>\n",
       "      <td>597.868722</td>\n",
       "      <td>735.281222</td>\n",
       "    </tr>\n",
       "    <tr>\n",
       "      <th>std</th>\n",
       "      <td>13.109520</td>\n",
       "      <td>0.804873</td>\n",
       "      <td>2430.317642</td>\n",
       "      <td>0.639028</td>\n",
       "      <td>3.438796</td>\n",
       "      <td>196.267110</td>\n",
       "      <td>1010.477245</td>\n",
       "      <td>1477.247724</td>\n",
       "    </tr>\n",
       "    <tr>\n",
       "      <th>min</th>\n",
       "      <td>26.000000</td>\n",
       "      <td>1.000000</td>\n",
       "      <td>0.000000</td>\n",
       "      <td>0.056550</td>\n",
       "      <td>0.000129</td>\n",
       "      <td>0.001104</td>\n",
       "      <td>0.005293</td>\n",
       "      <td>0.000000</td>\n",
       "    </tr>\n",
       "    <tr>\n",
       "      <th>25%</th>\n",
       "      <td>50.000000</td>\n",
       "      <td>1.000000</td>\n",
       "      <td>8.000000</td>\n",
       "      <td>0.373230</td>\n",
       "      <td>0.167179</td>\n",
       "      <td>10.757216</td>\n",
       "      <td>43.961000</td>\n",
       "      <td>80.692000</td>\n",
       "    </tr>\n",
       "    <tr>\n",
       "      <th>50%</th>\n",
       "      <td>60.000000</td>\n",
       "      <td>2.000000</td>\n",
       "      <td>26.500000</td>\n",
       "      <td>0.723840</td>\n",
       "      <td>1.649862</td>\n",
       "      <td>34.303353</td>\n",
       "      <td>259.873974</td>\n",
       "      <td>208.538500</td>\n",
       "    </tr>\n",
       "    <tr>\n",
       "      <th>75%</th>\n",
       "      <td>69.000000</td>\n",
       "      <td>3.000000</td>\n",
       "      <td>294.000000</td>\n",
       "      <td>1.139482</td>\n",
       "      <td>5.205037</td>\n",
       "      <td>122.741013</td>\n",
       "      <td>742.736000</td>\n",
       "      <td>649.000000</td>\n",
       "    </tr>\n",
       "    <tr>\n",
       "      <th>max</th>\n",
       "      <td>89.000000</td>\n",
       "      <td>3.000000</td>\n",
       "      <td>31000.000000</td>\n",
       "      <td>4.116840</td>\n",
       "      <td>23.890323</td>\n",
       "      <td>1403.897600</td>\n",
       "      <td>13344.300000</td>\n",
       "      <td>13200.000000</td>\n",
       "    </tr>\n",
       "  </tbody>\n",
       "</table>\n",
       "</div>"
      ],
      "text/plain": [
       "              age   diagnosis  plasma_CA19_9  creatinine       LYVE1  \\\n",
       "count  590.000000  590.000000     350.000000  590.000000  590.000000   \n",
       "mean    59.079661    2.027119     654.002944    0.855383    3.063530   \n",
       "std     13.109520    0.804873    2430.317642    0.639028    3.438796   \n",
       "min     26.000000    1.000000       0.000000    0.056550    0.000129   \n",
       "25%     50.000000    1.000000       8.000000    0.373230    0.167179   \n",
       "50%     60.000000    2.000000      26.500000    0.723840    1.649862   \n",
       "75%     69.000000    3.000000     294.000000    1.139482    5.205037   \n",
       "max     89.000000    3.000000   31000.000000    4.116840   23.890323   \n",
       "\n",
       "             REG1B          TFF1         REG1A  \n",
       "count   590.000000    590.000000    306.000000  \n",
       "mean    111.774090    597.868722    735.281222  \n",
       "std     196.267110   1010.477245   1477.247724  \n",
       "min       0.001104      0.005293      0.000000  \n",
       "25%      10.757216     43.961000     80.692000  \n",
       "50%      34.303353    259.873974    208.538500  \n",
       "75%     122.741013    742.736000    649.000000  \n",
       "max    1403.897600  13344.300000  13200.000000  "
      ]
     },
     "execution_count": 8,
     "metadata": {},
     "output_type": "execute_result"
    }
   ],
   "source": [
    "print(\"Datos\")\n",
    "df.describe()"
   ]
  },
  {
   "cell_type": "code",
   "execution_count": 9,
   "id": "ec210ef8",
   "metadata": {},
   "outputs": [
    {
     "data": {
      "text/html": [
       "<div>\n",
       "<style scoped>\n",
       "    .dataframe tbody tr th:only-of-type {\n",
       "        vertical-align: middle;\n",
       "    }\n",
       "\n",
       "    .dataframe tbody tr th {\n",
       "        vertical-align: top;\n",
       "    }\n",
       "\n",
       "    .dataframe thead th {\n",
       "        text-align: right;\n",
       "    }\n",
       "</style>\n",
       "<table border=\"1\" class=\"dataframe\">\n",
       "  <thead>\n",
       "    <tr style=\"text-align: right;\">\n",
       "      <th></th>\n",
       "      <th>age</th>\n",
       "      <th>sex</th>\n",
       "      <th>diagnosis</th>\n",
       "      <th>plasma_CA19_9</th>\n",
       "      <th>creatinine</th>\n",
       "      <th>LYVE1</th>\n",
       "      <th>REG1B</th>\n",
       "      <th>TFF1</th>\n",
       "      <th>REG1A</th>\n",
       "    </tr>\n",
       "  </thead>\n",
       "  <tbody>\n",
       "    <tr>\n",
       "      <th>0</th>\n",
       "      <td>33</td>\n",
       "      <td>F</td>\n",
       "      <td>1</td>\n",
       "      <td>11.7</td>\n",
       "      <td>1.83222</td>\n",
       "      <td>0.893219</td>\n",
       "      <td>52.94884</td>\n",
       "      <td>654.282174</td>\n",
       "      <td>1262.000</td>\n",
       "    </tr>\n",
       "    <tr>\n",
       "      <th>1</th>\n",
       "      <td>81</td>\n",
       "      <td>F</td>\n",
       "      <td>1</td>\n",
       "      <td>NaN</td>\n",
       "      <td>0.97266</td>\n",
       "      <td>2.037585</td>\n",
       "      <td>94.46703</td>\n",
       "      <td>209.488250</td>\n",
       "      <td>228.407</td>\n",
       "    </tr>\n",
       "    <tr>\n",
       "      <th>2</th>\n",
       "      <td>51</td>\n",
       "      <td>M</td>\n",
       "      <td>1</td>\n",
       "      <td>7.0</td>\n",
       "      <td>0.78039</td>\n",
       "      <td>0.145589</td>\n",
       "      <td>102.36600</td>\n",
       "      <td>461.141000</td>\n",
       "      <td>NaN</td>\n",
       "    </tr>\n",
       "    <tr>\n",
       "      <th>3</th>\n",
       "      <td>61</td>\n",
       "      <td>M</td>\n",
       "      <td>1</td>\n",
       "      <td>8.0</td>\n",
       "      <td>0.70122</td>\n",
       "      <td>0.002805</td>\n",
       "      <td>60.57900</td>\n",
       "      <td>142.950000</td>\n",
       "      <td>NaN</td>\n",
       "    </tr>\n",
       "    <tr>\n",
       "      <th>4</th>\n",
       "      <td>62</td>\n",
       "      <td>M</td>\n",
       "      <td>1</td>\n",
       "      <td>9.0</td>\n",
       "      <td>0.21489</td>\n",
       "      <td>0.000860</td>\n",
       "      <td>65.54000</td>\n",
       "      <td>41.088000</td>\n",
       "      <td>NaN</td>\n",
       "    </tr>\n",
       "  </tbody>\n",
       "</table>\n",
       "</div>"
      ],
      "text/plain": [
       "   age sex  diagnosis  plasma_CA19_9  creatinine     LYVE1      REG1B  \\\n",
       "0   33   F          1           11.7     1.83222  0.893219   52.94884   \n",
       "1   81   F          1            NaN     0.97266  2.037585   94.46703   \n",
       "2   51   M          1            7.0     0.78039  0.145589  102.36600   \n",
       "3   61   M          1            8.0     0.70122  0.002805   60.57900   \n",
       "4   62   M          1            9.0     0.21489  0.000860   65.54000   \n",
       "\n",
       "         TFF1     REG1A  \n",
       "0  654.282174  1262.000  \n",
       "1  209.488250   228.407  \n",
       "2  461.141000       NaN  \n",
       "3  142.950000       NaN  \n",
       "4   41.088000       NaN  "
      ]
     },
     "execution_count": 9,
     "metadata": {},
     "output_type": "execute_result"
    }
   ],
   "source": [
    "# Eliminamos columnas que no nos sean necesarias para el analisis de la predicción. \n",
    "# Acá hubo una investigación sobre el tema para decidir que datos son irrelevantes.\n",
    "df = df.drop(columns=['sample_id','patient_cohort','sample_origin','stage','benign_sample_diagnosis'])\n",
    "df.head()"
   ]
  },
  {
   "cell_type": "code",
   "execution_count": 10,
   "id": "a66b129a",
   "metadata": {},
   "outputs": [
    {
     "name": "stdout",
     "output_type": "stream",
     "text": [
      "['age', 'sex', 'diagnosis', 'plasma_CA19_9', 'creatinine', 'LYVE1', 'REG1B', 'TFF1', 'REG1A']\n"
     ]
    }
   ],
   "source": [
    "print(df.columns.tolist())"
   ]
  },
  {
   "cell_type": "code",
   "execution_count": 11,
   "id": "651766aa",
   "metadata": {},
   "outputs": [
    {
     "data": {
      "text/html": [
       "<div>\n",
       "<style scoped>\n",
       "    .dataframe tbody tr th:only-of-type {\n",
       "        vertical-align: middle;\n",
       "    }\n",
       "\n",
       "    .dataframe tbody tr th {\n",
       "        vertical-align: top;\n",
       "    }\n",
       "\n",
       "    .dataframe thead th {\n",
       "        text-align: right;\n",
       "    }\n",
       "</style>\n",
       "<table border=\"1\" class=\"dataframe\">\n",
       "  <thead>\n",
       "    <tr style=\"text-align: right;\">\n",
       "      <th></th>\n",
       "      <th>age</th>\n",
       "      <th>sex</th>\n",
       "      <th>diagnosis</th>\n",
       "      <th>plasma_CA19_9</th>\n",
       "      <th>creatinine</th>\n",
       "      <th>LYVE1</th>\n",
       "      <th>REG1B</th>\n",
       "      <th>TFF1</th>\n",
       "      <th>REG1A</th>\n",
       "    </tr>\n",
       "  </thead>\n",
       "  <tbody>\n",
       "    <tr>\n",
       "      <th>0</th>\n",
       "      <td>33</td>\n",
       "      <td>F</td>\n",
       "      <td>1</td>\n",
       "      <td>11.700000</td>\n",
       "      <td>1.83222</td>\n",
       "      <td>0.893219</td>\n",
       "      <td>52.94884</td>\n",
       "      <td>654.282174</td>\n",
       "      <td>1262.000000</td>\n",
       "    </tr>\n",
       "    <tr>\n",
       "      <th>1</th>\n",
       "      <td>81</td>\n",
       "      <td>F</td>\n",
       "      <td>1</td>\n",
       "      <td>654.002944</td>\n",
       "      <td>0.97266</td>\n",
       "      <td>2.037585</td>\n",
       "      <td>94.46703</td>\n",
       "      <td>209.488250</td>\n",
       "      <td>228.407000</td>\n",
       "    </tr>\n",
       "    <tr>\n",
       "      <th>2</th>\n",
       "      <td>51</td>\n",
       "      <td>M</td>\n",
       "      <td>1</td>\n",
       "      <td>7.000000</td>\n",
       "      <td>0.78039</td>\n",
       "      <td>0.145589</td>\n",
       "      <td>102.36600</td>\n",
       "      <td>461.141000</td>\n",
       "      <td>735.281222</td>\n",
       "    </tr>\n",
       "    <tr>\n",
       "      <th>3</th>\n",
       "      <td>61</td>\n",
       "      <td>M</td>\n",
       "      <td>1</td>\n",
       "      <td>8.000000</td>\n",
       "      <td>0.70122</td>\n",
       "      <td>0.002805</td>\n",
       "      <td>60.57900</td>\n",
       "      <td>142.950000</td>\n",
       "      <td>735.281222</td>\n",
       "    </tr>\n",
       "    <tr>\n",
       "      <th>4</th>\n",
       "      <td>62</td>\n",
       "      <td>M</td>\n",
       "      <td>1</td>\n",
       "      <td>9.000000</td>\n",
       "      <td>0.21489</td>\n",
       "      <td>0.000860</td>\n",
       "      <td>65.54000</td>\n",
       "      <td>41.088000</td>\n",
       "      <td>735.281222</td>\n",
       "    </tr>\n",
       "  </tbody>\n",
       "</table>\n",
       "</div>"
      ],
      "text/plain": [
       "   age sex  diagnosis  plasma_CA19_9  creatinine     LYVE1      REG1B  \\\n",
       "0   33   F          1      11.700000     1.83222  0.893219   52.94884   \n",
       "1   81   F          1     654.002944     0.97266  2.037585   94.46703   \n",
       "2   51   M          1       7.000000     0.78039  0.145589  102.36600   \n",
       "3   61   M          1       8.000000     0.70122  0.002805   60.57900   \n",
       "4   62   M          1       9.000000     0.21489  0.000860   65.54000   \n",
       "\n",
       "         TFF1        REG1A  \n",
       "0  654.282174  1262.000000  \n",
       "1  209.488250   228.407000  \n",
       "2  461.141000   735.281222  \n",
       "3  142.950000   735.281222  \n",
       "4   41.088000   735.281222  "
      ]
     },
     "execution_count": 11,
     "metadata": {},
     "output_type": "execute_result"
    }
   ],
   "source": [
    "columnas_a_eliminar = ['sample_id', 'patient_cohort', 'sample_origin', 'stage', 'benign_sample_diagnosis']\n",
    "columnas_existentes = [col for col in columnas_a_eliminar if col in df.columns]\n",
    "df = df.drop(columns=columnas_existentes)\n",
    "for col in df.columns:\n",
    "    if pd.api.types.is_numeric_dtype(df[col]):\n",
    "        df[col] = df[col].fillna(df[col].mean())\n",
    "    else:\n",
    "        if df[col].isnull().any():\n",
    "            df[col] = df[col].fillna(df[col].mode()[0])\n",
    "df.head()\n",
    "\n"
   ]
  },
  {
   "cell_type": "code",
   "execution_count": 12,
   "id": "8235abd3",
   "metadata": {},
   "outputs": [
    {
     "name": "stderr",
     "output_type": "stream",
     "text": [
      "C:\\Users\\pc\\AppData\\Local\\Temp\\ipykernel_18708\\3561880435.py:8: FutureWarning: A value is trying to be set on a copy of a DataFrame or Series through chained assignment using an inplace method.\n",
      "The behavior will change in pandas 3.0. This inplace method will never work because the intermediate object on which we are setting values always behaves as a copy.\n",
      "\n",
      "For example, when doing 'df[col].method(value, inplace=True)', try using 'df.method({col: value}, inplace=True)' or df[col] = df[col].method(value) instead, to perform the operation inplace on the original object.\n",
      "\n",
      "\n",
      "  df['diagnosis'].replace([1,2,3], [0,0,1], inplace=True)\n"
     ]
    },
    {
     "data": {
      "text/html": [
       "<div>\n",
       "<style scoped>\n",
       "    .dataframe tbody tr th:only-of-type {\n",
       "        vertical-align: middle;\n",
       "    }\n",
       "\n",
       "    .dataframe tbody tr th {\n",
       "        vertical-align: top;\n",
       "    }\n",
       "\n",
       "    .dataframe thead th {\n",
       "        text-align: right;\n",
       "    }\n",
       "</style>\n",
       "<table border=\"1\" class=\"dataframe\">\n",
       "  <thead>\n",
       "    <tr style=\"text-align: right;\">\n",
       "      <th></th>\n",
       "      <th>age</th>\n",
       "      <th>sex</th>\n",
       "      <th>diagnosis</th>\n",
       "      <th>plasma_CA19_9</th>\n",
       "      <th>creatinine</th>\n",
       "      <th>LYVE1</th>\n",
       "      <th>REG1B</th>\n",
       "      <th>TFF1</th>\n",
       "      <th>REG1A</th>\n",
       "    </tr>\n",
       "  </thead>\n",
       "  <tbody>\n",
       "    <tr>\n",
       "      <th>0</th>\n",
       "      <td>33</td>\n",
       "      <td>F</td>\n",
       "      <td>0</td>\n",
       "      <td>11.700000</td>\n",
       "      <td>1.83222</td>\n",
       "      <td>0.893219</td>\n",
       "      <td>52.94884</td>\n",
       "      <td>654.282174</td>\n",
       "      <td>1262.000000</td>\n",
       "    </tr>\n",
       "    <tr>\n",
       "      <th>1</th>\n",
       "      <td>81</td>\n",
       "      <td>F</td>\n",
       "      <td>0</td>\n",
       "      <td>654.002944</td>\n",
       "      <td>0.97266</td>\n",
       "      <td>2.037585</td>\n",
       "      <td>94.46703</td>\n",
       "      <td>209.488250</td>\n",
       "      <td>228.407000</td>\n",
       "    </tr>\n",
       "    <tr>\n",
       "      <th>2</th>\n",
       "      <td>51</td>\n",
       "      <td>M</td>\n",
       "      <td>0</td>\n",
       "      <td>7.000000</td>\n",
       "      <td>0.78039</td>\n",
       "      <td>0.145589</td>\n",
       "      <td>102.36600</td>\n",
       "      <td>461.141000</td>\n",
       "      <td>735.281222</td>\n",
       "    </tr>\n",
       "    <tr>\n",
       "      <th>3</th>\n",
       "      <td>61</td>\n",
       "      <td>M</td>\n",
       "      <td>0</td>\n",
       "      <td>8.000000</td>\n",
       "      <td>0.70122</td>\n",
       "      <td>0.002805</td>\n",
       "      <td>60.57900</td>\n",
       "      <td>142.950000</td>\n",
       "      <td>735.281222</td>\n",
       "    </tr>\n",
       "    <tr>\n",
       "      <th>4</th>\n",
       "      <td>62</td>\n",
       "      <td>M</td>\n",
       "      <td>0</td>\n",
       "      <td>9.000000</td>\n",
       "      <td>0.21489</td>\n",
       "      <td>0.000860</td>\n",
       "      <td>65.54000</td>\n",
       "      <td>41.088000</td>\n",
       "      <td>735.281222</td>\n",
       "    </tr>\n",
       "  </tbody>\n",
       "</table>\n",
       "</div>"
      ],
      "text/plain": [
       "   age sex  diagnosis  plasma_CA19_9  creatinine     LYVE1      REG1B  \\\n",
       "0   33   F          0      11.700000     1.83222  0.893219   52.94884   \n",
       "1   81   F          0     654.002944     0.97266  2.037585   94.46703   \n",
       "2   51   M          0       7.000000     0.78039  0.145589  102.36600   \n",
       "3   61   M          0       8.000000     0.70122  0.002805   60.57900   \n",
       "4   62   M          0       9.000000     0.21489  0.000860   65.54000   \n",
       "\n",
       "         TFF1        REG1A  \n",
       "0  654.282174  1262.000000  \n",
       "1  209.488250   228.407000  \n",
       "2  461.141000   735.281222  \n",
       "3  142.950000   735.281222  \n",
       "4   41.088000   735.281222  "
      ]
     },
     "execution_count": 12,
     "metadata": {},
     "output_type": "execute_result"
    }
   ],
   "source": [
    "# En la columna de diagnóstico hay 3 tipos de valores que indican que tiene el panciente, el 1 (para un páncreas sano), \n",
    "# el 2 (para pacientes que poseen un enfermedad que no termina llegando a ser el cáncer de pacnreas), \n",
    "# el 3 (para pacientes con cáncer de pancreas)\n",
    "# Con esto decidi hacer que para los valores 1 y 2 los cuales no teenen cáncer y el 3 para aquellos que si lo posean.\n",
    "\n",
    "\n",
    "# Cambiar los valores de diagnóstico los que son 0 son cancer = False y 1 = True.\n",
    "df['diagnosis'].replace([1,2,3], [0,0,1], inplace=True)\n",
    "df.head()"
   ]
  },
  {
   "cell_type": "code",
   "execution_count": 13,
   "id": "af8d367f",
   "metadata": {},
   "outputs": [
    {
     "data": {
      "text/html": [
       "<div>\n",
       "<style scoped>\n",
       "    .dataframe tbody tr th:only-of-type {\n",
       "        vertical-align: middle;\n",
       "    }\n",
       "\n",
       "    .dataframe tbody tr th {\n",
       "        vertical-align: top;\n",
       "    }\n",
       "\n",
       "    .dataframe thead th {\n",
       "        text-align: right;\n",
       "    }\n",
       "</style>\n",
       "<table border=\"1\" class=\"dataframe\">\n",
       "  <thead>\n",
       "    <tr style=\"text-align: right;\">\n",
       "      <th></th>\n",
       "      <th>age</th>\n",
       "      <th>diagnosis</th>\n",
       "      <th>plasma_CA19_9</th>\n",
       "      <th>creatinine</th>\n",
       "      <th>LYVE1</th>\n",
       "      <th>REG1B</th>\n",
       "      <th>TFF1</th>\n",
       "      <th>REG1A</th>\n",
       "      <th>sex_F</th>\n",
       "      <th>sex_M</th>\n",
       "    </tr>\n",
       "  </thead>\n",
       "  <tbody>\n",
       "    <tr>\n",
       "      <th>0</th>\n",
       "      <td>33</td>\n",
       "      <td>0</td>\n",
       "      <td>11.700000</td>\n",
       "      <td>1.83222</td>\n",
       "      <td>0.893219</td>\n",
       "      <td>52.94884</td>\n",
       "      <td>654.282174</td>\n",
       "      <td>1262.000000</td>\n",
       "      <td>True</td>\n",
       "      <td>False</td>\n",
       "    </tr>\n",
       "    <tr>\n",
       "      <th>1</th>\n",
       "      <td>81</td>\n",
       "      <td>0</td>\n",
       "      <td>654.002944</td>\n",
       "      <td>0.97266</td>\n",
       "      <td>2.037585</td>\n",
       "      <td>94.46703</td>\n",
       "      <td>209.488250</td>\n",
       "      <td>228.407000</td>\n",
       "      <td>True</td>\n",
       "      <td>False</td>\n",
       "    </tr>\n",
       "    <tr>\n",
       "      <th>2</th>\n",
       "      <td>51</td>\n",
       "      <td>0</td>\n",
       "      <td>7.000000</td>\n",
       "      <td>0.78039</td>\n",
       "      <td>0.145589</td>\n",
       "      <td>102.36600</td>\n",
       "      <td>461.141000</td>\n",
       "      <td>735.281222</td>\n",
       "      <td>False</td>\n",
       "      <td>True</td>\n",
       "    </tr>\n",
       "    <tr>\n",
       "      <th>3</th>\n",
       "      <td>61</td>\n",
       "      <td>0</td>\n",
       "      <td>8.000000</td>\n",
       "      <td>0.70122</td>\n",
       "      <td>0.002805</td>\n",
       "      <td>60.57900</td>\n",
       "      <td>142.950000</td>\n",
       "      <td>735.281222</td>\n",
       "      <td>False</td>\n",
       "      <td>True</td>\n",
       "    </tr>\n",
       "    <tr>\n",
       "      <th>4</th>\n",
       "      <td>62</td>\n",
       "      <td>0</td>\n",
       "      <td>9.000000</td>\n",
       "      <td>0.21489</td>\n",
       "      <td>0.000860</td>\n",
       "      <td>65.54000</td>\n",
       "      <td>41.088000</td>\n",
       "      <td>735.281222</td>\n",
       "      <td>False</td>\n",
       "      <td>True</td>\n",
       "    </tr>\n",
       "  </tbody>\n",
       "</table>\n",
       "</div>"
      ],
      "text/plain": [
       "   age  diagnosis  plasma_CA19_9  creatinine     LYVE1      REG1B        TFF1  \\\n",
       "0   33          0      11.700000     1.83222  0.893219   52.94884  654.282174   \n",
       "1   81          0     654.002944     0.97266  2.037585   94.46703  209.488250   \n",
       "2   51          0       7.000000     0.78039  0.145589  102.36600  461.141000   \n",
       "3   61          0       8.000000     0.70122  0.002805   60.57900  142.950000   \n",
       "4   62          0       9.000000     0.21489  0.000860   65.54000   41.088000   \n",
       "\n",
       "         REG1A  sex_F  sex_M  \n",
       "0  1262.000000   True  False  \n",
       "1   228.407000   True  False  \n",
       "2   735.281222  False   True  \n",
       "3   735.281222  False   True  \n",
       "4   735.281222  False   True  "
      ]
     },
     "execution_count": 13,
     "metadata": {},
     "output_type": "execute_result"
    }
   ],
   "source": [
    "# https://pandas.pydata.org/docs/reference/api/pandas.get_dummies.html\n",
    "\n",
    "df = pd.get_dummies(df)\n",
    "df.head()"
   ]
  },
  {
   "cell_type": "code",
   "execution_count": 14,
   "id": "10092546",
   "metadata": {},
   "outputs": [
    {
     "data": {
      "text/plain": [
       "<Axes: xlabel='age'>"
      ]
     },
     "execution_count": 14,
     "metadata": {},
     "output_type": "execute_result"
    },
    {
     "data": {
      "image/png": "[encoded data removed]",
      "text/plain": [
       "<Figure size 1000x600 with 1 Axes>"
      ]
     },
     "metadata": {},
     "output_type": "display_data"
    }
   ],
   "source": [
    "# https://seaborn.pydata.org/generated/seaborn.boxplot.html\n",
    "\n",
    "sns.boxplot(x=df['age'])"
   ]
  },
  {
   "cell_type": "code",
   "execution_count": 33,
   "id": "4f359759",
   "metadata": {},
   "outputs": [
    {
     "data": {
      "text/plain": [
       "<Axes: xlabel='plasma_CA19_9'>"
      ]
     },
     "execution_count": 33,
     "metadata": {},
     "output_type": "execute_result"
    },
    {
     "data": {
      "image/png": "[encoded data removed]",
      "text/plain": [
       "<Figure size 1000x600 with 1 Axes>"
      ]
     },
     "metadata": {},
     "output_type": "display_data"
    }
   ],
   "source": [
    "sns.boxplot(x=df['plasma_CA19_9'])"
   ]
  },
  {
   "cell_type": "code",
   "execution_count": 34,
   "id": "0aa6d0c4",
   "metadata": {},
   "outputs": [
    {
     "data": {
      "text/plain": [
       "<Axes: ylabel='creatinine'>"
      ]
     },
     "execution_count": 34,
     "metadata": {},
     "output_type": "execute_result"
    },
    {
     "data": {
      "image/png": "[encoded data removed]",
      "text/plain": [
       "<Figure size 1000x600 with 1 Axes>"
      ]
     },
     "metadata": {},
     "output_type": "display_data"
    }
   ],
   "source": [
    "sns.boxplot(y=df['creatinine'])"
   ]
  },
  {
   "cell_type": "code",
   "execution_count": 35,
   "id": "4b220dfd",
   "metadata": {},
   "outputs": [
    {
     "data": {
      "text/plain": [
       "<Axes: xlabel='LYVE1'>"
      ]
     },
     "execution_count": 35,
     "metadata": {},
     "output_type": "execute_result"
    },
    {
     "data": {
      "image/png": "[encoded data removed]",
      "text/plain": [
       "<Figure size 1000x600 with 1 Axes>"
      ]
     },
     "metadata": {},
     "output_type": "display_data"
    }
   ],
   "source": [
    "sns.boxplot(x=df['LYVE1'])"
   ]
  },
  {
   "cell_type": "code",
   "execution_count": 36,
   "id": "1bbf6461",
   "metadata": {},
   "outputs": [
    {
     "data": {
      "text/plain": [
       "<Axes: xlabel='REG1B'>"
      ]
     },
     "execution_count": 36,
     "metadata": {},
     "output_type": "execute_result"
    },
    {
     "data": {
      "image/png": "[encoded data removed]",
      "text/plain": [
       "<Figure size 1000x600 with 1 Axes>"
      ]
     },
     "metadata": {},
     "output_type": "display_data"
    }
   ],
   "source": [
    "sns.boxplot(x=df['REG1B'])"
   ]
  },
  {
   "cell_type": "code",
   "execution_count": 37,
   "id": "0446b7a7",
   "metadata": {},
   "outputs": [
    {
     "data": {
      "text/plain": [
       "<Axes: xlabel='REG1A'>"
      ]
     },
     "execution_count": 37,
     "metadata": {},
     "output_type": "execute_result"
    },
    {
     "data": {
      "image/png": "[encoded data removed]",
      "text/plain": [
       "<Figure size 1000x600 with 1 Axes>"
      ]
     },
     "metadata": {},
     "output_type": "display_data"
    }
   ],
   "source": [
    "sns.boxplot(x=df['REG1A'])"
   ]
  },
  {
   "cell_type": "code",
   "execution_count": 38,
   "id": "2a1f5122",
   "metadata": {},
   "outputs": [
    {
     "data": {
      "text/plain": [
       "<Axes: xlabel='TFF1'>"
      ]
     },
     "execution_count": 38,
     "metadata": {},
     "output_type": "execute_result"
    },
    {
     "data": {
      "image/png": "[encoded data removed]",
      "text/plain": [
       "<Figure size 1000x600 with 1 Axes>"
      ]
     },
     "metadata": {},
     "output_type": "display_data"
    }
   ],
   "source": [
    "sns.boxplot(x=df['TFF1'])"
   ]
  },
  {
   "cell_type": "code",
   "execution_count": 17,
   "id": "f6214c3f",
   "metadata": {},
   "outputs": [
    {
     "data": {
      "text/plain": [
       "(470, 10)"
      ]
     },
     "execution_count": 17,
     "metadata": {},
     "output_type": "execute_result"
    }
   ],
   "source": [
    "#https://numpy.org/doc/2.1/reference/generated/numpy.quantile.html\n",
    "num_df = df.select_dtypes(include='number')\n",
    "\n",
    "# Calcular quantile y IQR\n",
    "Q1 = num_df.quantile(0.25)\n",
    "Q3 = num_df.quantile(0.75)\n",
    "IQR = Q3 - Q1\n",
    "\n",
    "# Filtrar outliers usando las columnas numéricas\n",
    "mask = ~((num_df < (Q1 - 1.5 * IQR)) | (num_df > (Q3 + 1.5 * IQR))).any(axis=1)\n",
    "new_df = df[mask]\n",
    "\n",
    "# Mostrar forma del nuevo DataFrame sin outliers\n",
    "new_df.shape"
   ]
  },
  {
   "cell_type": "code",
   "execution_count": 37,
   "id": "3eb143c9",
   "metadata": {},
   "outputs": [],
   "source": [
    "nuevos_datos_para_entrenamineto = pd.DataFrame({\n",
    "    'age': np.random.normal(65, 10, 100),\n",
    "    'plasma_CA19_9': np.random.normal(80, 50, 100),\n",
    "    'creatinine': np.random.normal(0.9, 0.2, 100),\n",
    "    'LYVE1': np.random.normal(1.5, 0.3, 100),\n",
    "    'REG1B': np.random.normal(60, 20, 100),\n",
    "    'TFF1': np.random.normal(600, 200, 100),\n",
    "    'REG1A': np.random.normal(1200, 400, 100),\n",
    "    'sex_F': np.random.choice([True, False], 100)\n",
    "})\n",
    "nuevos_datos_para_entrenamineto['sex_M'] = ~nuevos_datos_para_entrenamineto['sex_F']\n",
    "nuevos_datos_para_entrenamineto['diagnosis'] = np.random.choice([0, 1], size=100, p=[0.9, 0.1])"
   ]
  },
  {
   "cell_type": "code",
   "execution_count": 55,
   "id": "91f316d2",
   "metadata": {},
   "outputs": [
    {
     "name": "stdout",
     "output_type": "stream",
     "text": [
      "Total de pruebas en todo el dataset: 570\n",
      "Total de pruebas en el entrenamiento: 456\n",
      "Total de pruebas en la prueba: 114\n"
     ]
    }
   ],
   "source": [
    "# División de datos corregida\n",
    "df_ampliado = pd.concat([new_df, nuevos_datos_para_entrenamineto], ignore_index=True)\n",
    "\n",
    "X = df_ampliado.drop([\"diagnosis\"], axis=1)\n",
    "y = df_ampliado[\"diagnosis\"]\n",
    "\n",
    "# CORRECTO: se usa 'test_size' en lugar de 'tamano'\n",
    "x_entrenamiento, x_prueba, y_entrenamiento, y_prueba = train_test_split(X, y, test_size=0.2, random_state=60)\n",
    "\n",
    "print(f\"Total de pruebas en todo el dataset: {len(X)}\")\n",
    "print(f\"Total de pruebas en el entrenamiento: {len(x_entrenamiento)}\")\n",
    "print(f\"Total de pruebas en la prueba: {len(x_prueba)}\")"
   ]
  },
  {
   "cell_type": "code",
   "execution_count": 29,
   "id": "f7b8f8d8",
   "metadata": {},
   "outputs": [],
   "source": [
    "scaler = MinMaxScaler()\n",
    "scaler.fit(x_entrenamiento)\n",
    "x_entrenamiento = scaler.transform(x_entrenamiento)\n",
    "x_prueba = scaler.transform(x_prueba)"
   ]
  },
  {
   "cell_type": "code",
   "execution_count": 56,
   "id": "6e58b50c",
   "metadata": {},
   "outputs": [
    {
     "name": "stdout",
     "output_type": "stream",
     "text": [
      "Modelo con Random Forest\n",
      "[[89  5]\n",
      " [ 8 12]]\n",
      "              precision    recall  f1-score   support\n",
      "\n",
      "           0       0.92      0.95      0.93        94\n",
      "           1       0.71      0.60      0.65        20\n",
      "\n",
      "    accuracy                           0.89       114\n",
      "   macro avg       0.81      0.77      0.79       114\n",
      "weighted avg       0.88      0.89      0.88       114\n",
      "\n",
      "Validación cruzada (RF) - accuracy promedio: 0.85\n"
     ]
    }
   ],
   "source": [
    "Random_forest = RandomForestClassifier(random_state=42)\n",
    "Random_forest.fit(x_entrenamiento, y_entrenamiento)\n",
    "\n",
    "y_prediccion_RandomForest = Random_forest.predict(x_prueba)\n",
    "print(\"Modelo con Random Forest\")\n",
    "print(confusion_matrix(y_prueba, y_prediccion_RandomForest))\n",
    "print(classification_report(y_prueba, y_prediccion_RandomForest))\n",
    "\n",
    "csv_score_RandomForest =  cross_val_score(Random_forest, X, y, cv=5)\n",
    "print(f\"Validación cruzada (RF) - accuracy promedio: {csv_score_RandomForest.mean():.2f}\")"
   ]
  },
  {
   "cell_type": "code",
   "execution_count": 57,
   "id": "dec0809c",
   "metadata": {},
   "outputs": [
    {
     "data": {
      "image/png": "[encoded data removed]",
      "text/plain": [
       "<Figure size 1000x600 with 2 Axes>"
      ]
     },
     "metadata": {},
     "output_type": "display_data"
    }
   ],
   "source": [
    "# Matriz de confusión\n",
    "matriz = confusion_matrix(y_prueba, y_prediccion_RandomForest)\n",
    "\n",
    "# Etiquetas para el gráfico\n",
    "etiquetas = [\"Sano (0)\", \"Cáncer (1)\"]\n",
    "\n",
    "# Mppa de calor\n",
    "sns.heatmap(matriz, annot=True, fmt='d', cmap='Blues', xticklabels=etiquetas, yticklabels=etiquetas)\n",
    "plt.xlabel('Predicción')\n",
    "plt.ylabel('Valor real')\n",
    "plt.title('Matriz de Confusión del Random Forest')\n",
    "plt.show()\n",
    "\n",
    "\n",
    "#                0                   1\n",
    "#\n",
    "# 0 |   Verdadero Negativo(86)  Falso Positivo (5)\n",
    "# \n",
    "# 1 |   Falso Negativo(13)  Verdadero Positivo(10)   "
   ]
  },
  {
   "cell_type": "code",
   "execution_count": 22,
   "id": "e2336f9a",
   "metadata": {},
   "outputs": [
    {
     "name": "stdout",
     "output_type": "stream",
     "text": [
      "Resultado: Positivo para cáncer\n"
     ]
    }
   ],
   "source": [
    "# Prueba de este modle de Random Forest\n",
    "\n",
    "nuevo_paciente = pd.DataFrame([{\n",
    "    'age': 100,\n",
    "    'plasma_CA19_9': 45,\n",
    "    'creatinine': 0.4,\n",
    "    'LYVE1':1.8,\n",
    "    'REG1B': 64,\n",
    "    'TFF1': 622,\n",
    "    'REG1A': 1220,\n",
    "    'sex_F': True,\n",
    "    'sex_M': False\n",
    "}])\n",
    "\n",
    "nuevo_paciente = nuevo_paciente[x_entrenamiento.columns]\n",
    "prediccion = Random_forest.predict(nuevo_paciente)\n",
    "print(\"Resultado:\", \"Positivo para cáncer\" if prediccion[0] == 1 else \"Negativo para cáncer\")\n"
   ]
  },
  {
   "cell_type": "code",
   "execution_count": 23,
   "id": "4e3247b6",
   "metadata": {},
   "outputs": [
    {
     "name": "stdout",
     "output_type": "stream",
     "text": [
      "Distribución de clases en 'diagnosis:\n",
      "etiqueta_diagnostico\n",
      "Sano    199\n",
      "Name: count, dtype: int64 \n",
      "\n"
     ]
    },
    {
     "name": "stderr",
     "output_type": "stream",
     "text": [
      "C:\\Users\\pc\\AppData\\Local\\Temp\\ipykernel_18708\\3488202724.py:21: FutureWarning: \n",
      "\n",
      "Passing `palette` without assigning `hue` is deprecated and will be removed in v0.14.0. Assign the `x` variable to `hue` and set `legend=False` for the same effect.\n",
      "\n",
      "  ax = sns.countplot(data=df, x=\"etiqueta_diagnostico\", palette=\"pastel\", order=orden_clases)\n"
     ]
    },
    {
     "data": {
      "image/png": "[encoded data removed]",
      "text/plain": [
       "<Figure size 1000x600 with 1 Axes>"
      ]
     },
     "metadata": {},
     "output_type": "display_data"
    }
   ],
   "source": [
    "if 'Diagnosis' in df.columns or 'diagnosis' in df.columns:\n",
    "    objetivo = 'Diagnosis' if 'Diagnosis' in df.columns else 'diagnosis'\n",
    "    \n",
    "    # Mapeo de valores numéricos a etiquetas comprensibles\n",
    "    etiquetas = {\n",
    "        1: \"Sano\",\n",
    "        2: \"Pancreatitis\",\n",
    "        3: \"Cáncer de páncreas\"\n",
    "    }\n",
    "\n",
    "    # Crear una nueva columna con las etiquetas\n",
    "    df[\"etiqueta_diagnostico\"] = df[objetivo].map(etiquetas)\n",
    "    \n",
    "    # mostramos la cantidad exacta de casa diagnostico con su etiqueta correspondiente\n",
    "    print(f\"Distribución de clases en '{objetivo}:\")\n",
    "    print(df[\"etiqueta_diagnostico\"].value_counts(), \"\\n\")\n",
    "\n",
    "    orden_clases = [\"Sano\", \"Pancreatitis\", \"Cáncer de páncreas\"]\n",
    "\n",
    "    # Crear el gráfico\n",
    "    ax = sns.countplot(data=df, x=\"etiqueta_diagnostico\", palette=\"pastel\", order=orden_clases)\n",
    "    plt.title(f\"{objetivo}\")\n",
    "    plt.xlabel(\"Diagnóstico\")\n",
    "    plt.ylabel(\"Cantidad de casos con los diagnosticos\")\n",
    "\n",
    "    # Mostrar el número exacto arriba de cada barra\n",
    "    for p in ax.patches:\n",
    "        altura = p.get_height()\n",
    "        ax.annotate(f\"{int(altura)}\", (p.get_x() + p.get_width() / 2, altura),\n",
    "                    ha='center', va='bottom', fontsize=15, fontweight='bold')\n",
    "\n",
    "    plt.tight_layout()\n",
    "    plt.show()\n",
    "# Revisamos si en la tabla de datos hay una columna que diga si una persona tiene cáncer o no, y si la encuentra Cuenta cuántas personas tienen cáncer y cuántas no, \n",
    "# además de hacer un gráfico de barras para que se vea claro. \n",
    "# Este gráfico de barras muestra cuántas personas hay en cada grupo de diagnóstico, que es la variable objetivo del proyecto (es decir, lo que queremos predecir: el tipo de diagnóstico)."
   ]
  },
  {
   "cell_type": "code",
   "execution_count": null,
   "id": "f1c59a08",
   "metadata": {},
   "outputs": [
    {
     "data": {
      "image/png": "[encoded data removed]",
      "text/plain": [
       "<Figure size 1200x800 with 2 Axes>"
      ]
     },
     "metadata": {},
     "output_type": "display_data"
    }
   ],
   "source": [
    "numerical_cols = df.select_dtypes(include=[\"float64\", \"int64\"]).columns\n",
    "if len(numerical_cols) > 1:\n",
    "    corr = df[numerical_cols].corr()\n",
    "    plt.figure(figsize=(12, 8))\n",
    "    sns.heatmap(corr, annot=True, fmt=\".2f\", cmap=\"coolwarm\")\n",
    "    plt.title(\"Mapa de calor de correlaciones\")\n",
    "    plt.tight_layout()\n",
    "    plt.show()"
   ]
  }
 ],
 "metadata": {
  "kernelspec": {
   "display_name": "Python 3",
   "language": "python",
   "name": "python3"
  },
  "language_info": {
   "codemirror_mode": {
    "name": "ipython",
    "version": 3
   },
   "file_extension": ".py",
   "mimetype": "text/x-python",
   "name": "python",
   "nbconvert_exporter": "python",
   "pygments_lexer": "ipython3",
   "version": "3.11.9"
  }
 },
 "nbformat": 4,
 "nbformat_minor": 5
}

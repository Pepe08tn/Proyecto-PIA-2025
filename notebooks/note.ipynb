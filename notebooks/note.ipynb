{
 "cells": [
  {
   "cell_type": "code",
   "execution_count": 4,
   "id": "08bb4e47",
   "metadata": {},
   "outputs": [],
   "source": [
    "# notebooks/01_analisis_inicial.py\n",
    "\n",
    "import pandas as pd\n",
    "import matplotlib.pyplot as plt\n",
    "import seaborn as sns\n",
    "import os\n",
    "\n",
    "# Configuración para visualizaciones\n",
    "sns.set(style=\"whitegrid\")\n",
    "plt.rcParams[\"figure.figsize\"] = (10, 6)\n",
    "\n",
    "# Ruta del dataset (ruta relativa al proyecto)\n",
    "BASE_DIR = os.path.abspath(\"..\")  # Sube un nivel desde notebooks/\n",
    "DATA_PATH = os.path.join(BASE_DIR, \"data\", \"pancreatic_cancer_structured.csv\")\n",
    "\n",
    "# Cargar el dataset\n",
    "df = pd.read_csv(DATA_PATH)"
   ]
  },
  {
   "cell_type": "code",
   "execution_count": 5,
   "id": "b8b96ff1",
   "metadata": {},
   "outputs": [
    {
     "name": "stdout",
     "output_type": "stream",
     "text": [
      "🔍 Primeras filas del dataset:\n",
      "  sample_id patient_cohort sample_origin  age sex  diagnosis stage  \\\n",
      "0        S1        Cohort1          BPTB   33   F          1   NaN   \n",
      "1       S10        Cohort1          BPTB   81   F          1   NaN   \n",
      "2      S100        Cohort2          BPTB   51   M          1   NaN   \n",
      "3      S101        Cohort2          BPTB   61   M          1   NaN   \n",
      "4      S102        Cohort2          BPTB   62   M          1   NaN   \n",
      "\n",
      "  benign_sample_diagnosis  plasma_CA19_9  creatinine     LYVE1      REG1B  \\\n",
      "0                     NaN           11.7     1.83222  0.893219   52.94884   \n",
      "1                     NaN            NaN     0.97266  2.037585   94.46703   \n",
      "2                     NaN            7.0     0.78039  0.145589  102.36600   \n",
      "3                     NaN            8.0     0.70122  0.002805   60.57900   \n",
      "4                     NaN            9.0     0.21489  0.000860   65.54000   \n",
      "\n",
      "         TFF1     REG1A  \n",
      "0  654.282174  1262.000  \n",
      "1  209.488250   228.407  \n",
      "2  461.141000       NaN  \n",
      "3  142.950000       NaN  \n",
      "4   41.088000       NaN   \n",
      "\n"
     ]
    }
   ],
   "source": [
    "print(\"🔍 Primeras filas del dataset:\")\n",
    "print(df.head(), \"\\n\")\n"
   ]
  },
  {
   "cell_type": "code",
   "execution_count": null,
   "id": "09ea839b",
   "metadata": {},
   "outputs": [
    {
     "name": "stdout",
     "output_type": "stream",
     "text": [
      "📏 Dimensiones: 590 filas y 14 columnas\n",
      "\n"
     ]
    }
   ],
   "source": [
    "print(f\"Dimensiones: {df.shape[0]} filas y {df.shape[1]} columnas\\n\")"
   ]
  },
  {
   "cell_type": "code",
   "execution_count": 8,
   "id": "e6ecb259",
   "metadata": {},
   "outputs": [
    {
     "name": "stdout",
     "output_type": "stream",
     "text": [
      "Tipos de datos por columna:\n",
      "<class 'pandas.core.frame.DataFrame'>\n",
      "RangeIndex: 590 entries, 0 to 589\n",
      "Data columns (total 14 columns):\n",
      " #   Column                   Non-Null Count  Dtype  \n",
      "---  ------                   --------------  -----  \n",
      " 0   sample_id                590 non-null    object \n",
      " 1   patient_cohort           590 non-null    object \n",
      " 2   sample_origin            590 non-null    object \n",
      " 3   age                      590 non-null    int64  \n",
      " 4   sex                      590 non-null    object \n",
      " 5   diagnosis                590 non-null    int64  \n",
      " 6   stage                    199 non-null    object \n",
      " 7   benign_sample_diagnosis  208 non-null    object \n",
      " 8   plasma_CA19_9            350 non-null    float64\n",
      " 9   creatinine               590 non-null    float64\n",
      " 10  LYVE1                    590 non-null    float64\n",
      " 11  REG1B                    590 non-null    float64\n",
      " 12  TFF1                     590 non-null    float64\n",
      " 13  REG1A                    306 non-null    float64\n",
      "dtypes: float64(6), int64(2), object(6)\n",
      "memory usage: 64.7+ KB\n"
     ]
    }
   ],
   "source": [
    "print(\"Tipos de datos por columna:\")\n",
    "df.info()"
   ]
  },
  {
   "cell_type": "code",
   "execution_count": null,
   "id": "5b680a7f",
   "metadata": {},
   "outputs": [
    {
     "name": "stdout",
     "output_type": "stream",
     "text": [
      "Valores nulos por columna:\n",
      "sample_id                    0\n",
      "patient_cohort               0\n",
      "sample_origin                0\n",
      "age                          0\n",
      "sex                          0\n",
      "diagnosis                    0\n",
      "stage                      391\n",
      "benign_sample_diagnosis    382\n",
      "plasma_CA19_9              240\n",
      "creatinine                   0\n",
      "LYVE1                        0\n",
      "REG1B                        0\n",
      "TFF1                         0\n",
      "REG1A                      284\n",
      "etiqueta_diagnostico         0\n",
      "dtype: int64 \n",
      "\n"
     ]
    }
   ],
   "source": [
    "print(\"Valores nulos por columna:\")\n",
    "df.sum()"
   ]
  },
  {
   "cell_type": "code",
   "execution_count": 16,
   "id": "98755b32",
   "metadata": {},
   "outputs": [
    {
     "name": "stdout",
     "output_type": "stream",
     "text": [
      "📈 Estadísticas descriptivas:\n",
      "       sample_id patient_cohort sample_origin         age  sex   diagnosis  \\\n",
      "count        590            590           590  590.000000  590  590.000000   \n",
      "unique       590              2             4         NaN    2         NaN   \n",
      "top         S590        Cohort1          BPTB         NaN    F         NaN   \n",
      "freq           1            332           409         NaN  299         NaN   \n",
      "mean         NaN            NaN           NaN   59.079661  NaN    2.027119   \n",
      "std          NaN            NaN           NaN   13.109520  NaN    0.804873   \n",
      "min          NaN            NaN           NaN   26.000000  NaN    1.000000   \n",
      "25%          NaN            NaN           NaN   50.000000  NaN    1.000000   \n",
      "50%          NaN            NaN           NaN   60.000000  NaN    2.000000   \n",
      "75%          NaN            NaN           NaN   69.000000  NaN    3.000000   \n",
      "max          NaN            NaN           NaN   89.000000  NaN    3.000000   \n",
      "\n",
      "       stage benign_sample_diagnosis  plasma_CA19_9  creatinine       LYVE1  \\\n",
      "count    199                     208     350.000000  590.000000  590.000000   \n",
      "unique     8                      52            NaN         NaN         NaN   \n",
      "top      III            Pancreatitis            NaN         NaN         NaN   \n",
      "freq      76                      41            NaN         NaN         NaN   \n",
      "mean     NaN                     NaN     654.002944    0.855383    3.063530   \n",
      "std      NaN                     NaN    2430.317642    0.639028    3.438796   \n",
      "min      NaN                     NaN       0.000000    0.056550    0.000129   \n",
      "25%      NaN                     NaN       8.000000    0.373230    0.167179   \n",
      "50%      NaN                     NaN      26.500000    0.723840    1.649862   \n",
      "75%      NaN                     NaN     294.000000    1.139482    5.205037   \n",
      "max      NaN                     NaN   31000.000000    4.116840   23.890323   \n",
      "\n",
      "              REG1B          TFF1         REG1A  \n",
      "count    590.000000    590.000000    306.000000  \n",
      "unique          NaN           NaN           NaN  \n",
      "top             NaN           NaN           NaN  \n",
      "freq            NaN           NaN           NaN  \n",
      "mean     111.774090    597.868722    735.281222  \n",
      "std      196.267110   1010.477245   1477.247724  \n",
      "min        0.001104      0.005293      0.000000  \n",
      "25%       10.757216     43.961000     80.692000  \n",
      "50%       34.303353    259.873974    208.538500  \n",
      "75%      122.741013    742.736000    649.000000  \n",
      "max     1403.897600  13344.300000  13200.000000  \n"
     ]
    }
   ],
   "source": [
    "print(\"📈 Estadísticas descriptivas:\")\n",
    "print(df.describe(include='all'))"
   ]
  },
  {
   "cell_type": "code",
   "execution_count": 26,
   "id": "4e3247b6",
   "metadata": {},
   "outputs": [
    {
     "name": "stdout",
     "output_type": "stream",
     "text": [
      "Distribución de clases en 'diagnosis:\n",
      "etiqueta_diagnostico\n",
      "Pancreatitis          208\n",
      "Cáncer de páncreas    199\n",
      "Sano                  183\n",
      "Name: count, dtype: int64 \n",
      "\n"
     ]
    },
    {
     "name": "stderr",
     "output_type": "stream",
     "text": [
      "C:\\Users\\pc\\AppData\\Local\\Temp\\ipykernel_25836\\2473262541.py:20: FutureWarning: \n",
      "\n",
      "Passing `palette` without assigning `hue` is deprecated and will be removed in v0.14.0. Assign the `x` variable to `hue` and set `legend=False` for the same effect.\n",
      "\n",
      "  ax = sns.countplot(data=df, x=\"etiqueta_diagnostico\", palette=\"pastel\", order=orden_clases)\n"
     ]
    },
    {
     "data": {
      "image/png": "[encoded data removed]",
      "text/plain": [
       "<Figure size 1000x600 with 1 Axes>"
      ]
     },
     "metadata": {},
     "output_type": "display_data"
    }
   ],
   "source": [
    "if 'Diagnosis' in df.columns or 'diagnosis' in df.columns:\n",
    "    objetivo = 'Diagnosis' if 'Diagnosis' in df.columns else 'diagnosis'\n",
    "    \n",
    "    # Mapeo de valores numéricos a etiquetas comprensibles\n",
    "    etiquetas = {\n",
    "        1: \"Sano\",\n",
    "        2: \"Pancreatitis\",\n",
    "        3: \"Cáncer de páncreas\"\n",
    "    }\n",
    "\n",
    "    # Crear una nueva columna con las etiquetas\n",
    "    df[\"etiqueta_diagnostico\"] = df[objetivo].map(etiquetas)\n",
    "    # mostramos la cantidad exacta de casa diagnostico con su etiqueta correspondiente\n",
    "    print(f\"Distribución de clases en '{objetivo}:\")\n",
    "    print(df[\"etiqueta_diagnostico\"].value_counts(), \"\\n\")\n",
    "\n",
    "    orden_clases = [\"Sano\", \"Pancreatitis\", \"Cáncer de páncreas\"]\n",
    "\n",
    "    # Crear el gráfico\n",
    "    ax = sns.countplot(data=df, x=\"etiqueta_diagnostico\", palette=\"pastel\", order=orden_clases)\n",
    "    plt.title(f\"{objetivo}\")\n",
    "    plt.xlabel(\"Diagnóstico\")\n",
    "    plt.ylabel(\"Cantidad de casos con los diagnosticos\")\n",
    "\n",
    "    # Mostrar el número exacto arriba de cada barra\n",
    "    for p in ax.patches:\n",
    "        altura = p.get_height()\n",
    "        ax.annotate(f\"{int(altura)}\", (p.get_x() + p.get_width() / 2, altura),\n",
    "                    ha='center', va='bottom', fontsize=15, fontweight='bold')\n",
    "\n",
    "    plt.tight_layout()\n",
    "    plt.show()\n",
    "# Revisamos si en la tabla de datos hay una columna que diga si una persona tiene cáncer o no, y si la encuentra Cuenta cuántas personas tienen cáncer y cuántas no, \n",
    "# además de hacer un gráfico de barras para que se vea claro. \n",
    "# Este gráfico de barras muestra cuántas personas hay en cada grupo de diagnóstico, que es la variable objetivo del proyecto (es decir, lo que queremos predecir: el tipo de diagnóstico)."
   ]
  }
 ],
 "metadata": {
  "kernelspec": {
   "display_name": ".venv",
   "language": "python",
   "name": "python3"
  },
  "language_info": {
   "codemirror_mode": {
    "name": "ipython",
    "version": 3
   },
   "file_extension": ".py",
   "mimetype": "text/x-python",
   "name": "python",
   "nbconvert_exporter": "python",
   "pygments_lexer": "ipython3",
   "version": "3.11.9"
  }
 },
 "nbformat": 4,
 "nbformat_minor": 5
}

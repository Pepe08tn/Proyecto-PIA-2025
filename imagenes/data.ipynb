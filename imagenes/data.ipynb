{
 "cells": [
  {
   "cell_type": "code",
   "execution_count": null,
   "id": "13d156cd",
   "metadata": {},
   "outputs": [],
   "source": [
    "import os\n",
    "from glob import glob\n",
    "import matplotlib.pyplot as plt\n",
    "import cv2\n",
    "import pandas as pd\n",
    "import matplotlib.pyplot as plt\n",
    "import seaborn as sns\n",
    "import os\n",
    "from PIL import Image\n",
    "\n",
    "# Definir las rutas\n",
    "base_path = \"/mnt/data/DATASET\"\n",
    "train_path = os.path.join(base_path, \"train\")\n",
    "test_path = os.path.join(base_path, \"test\")\n",
    "\n",
    "# Contar las imagenes por clase\n",
    "def contar_imagenes(path):\n",
    "    classes = os.listdir(path)\n",
    "    count_dict = {}\n",
    "    for cls in classes:\n",
    "        img_count = len(glob(os.path.join(path, cls, \"*.jpg\")))\n",
    "        count_dict[cls] = img_count\n",
    "    return count_dict\n",
    "\n",
    "train_counts = contar_imagenes(train_path)\n",
    "test_counts = contar_imagenes(test_path)"
   ]
  }
 ],
 "metadata": {
  "language_info": {
   "name": "python"
  }
 },
 "nbformat": 4,
 "nbformat_minor": 5
}
